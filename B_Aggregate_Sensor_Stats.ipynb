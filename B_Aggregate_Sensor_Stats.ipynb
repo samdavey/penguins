{
 "cells": [
  {
   "cell_type": "markdown",
   "metadata": {},
   "source": [
    "# Aggregate Sensor Stats\n",
    "In script A_load_and_combine_data we created a table called df_sensor_phase which contianed the full temperature and humidity sensor readings, together with the breeding_year, season_year and breeding_phase.\n",
    "\n",
    "This script creates a set of aggregates from this data to understand the nest microclimates. The aggregates include:\n",
    "* `Annual stats             -> df_sensor_stats_annual`\n",
    "* `Seasonal stats           -> df_sensor_stats_seasonal`\n",
    "* `Monthly stats            -> df_sensor_stats_monthly`\n",
    "* `Daily stats              -> df_sensor_stats_daily`\n",
    "* `Stats by breeding phase  -> df_sensor_stats_breeding_phase`\n",
    "\n"
   ]
  },
  {
   "cell_type": "markdown",
   "metadata": {},
   "source": [
    "## 1. Set up the environment\n",
    "### 1.1 Import the required libraries\n",
    "We need a certain set of common libraries for the tasks to be performed. These are imported below. If an import statement errors, you will need to install the library in your environment using the command line command `pip install <library>`."
   ]
  },
  {
   "cell_type": "code",
   "execution_count": 1,
   "metadata": {
    "collapsed": false
   },
   "outputs": [
    {
     "name": "stdout",
     "output_type": "stream",
     "text": [
      "Setting up environment and variables...\n"
     ]
    }
   ],
   "source": [
    "print('Setting up environment and variables...', flush=True)\n",
    "import pandas as pd\n",
    "import os\n",
    "import numpy as np\n",
    "import datetime\n",
    "import time\n",
    "\n",
    "# all the useful and reuseable functions are defined in helper_functions.py\n",
    "from helper_functions import *"
   ]
  },
  {
   "cell_type": "markdown",
   "metadata": {},
   "source": [
    "### 1.2 Set up the variables\n",
    "You will need to change the values of the variables below to suit the names and directory location of your files to be loaded."
   ]
  },
  {
   "cell_type": "code",
   "execution_count": 2,
   "metadata": {
    "collapsed": false
   },
   "outputs": [
    {
     "name": "stdout",
     "output_type": "stream",
     "text": [
      "Mon Apr 10 21:03:01 2017 - Done.\n"
     ]
    }
   ],
   "source": [
    "# update these with your file paths\n",
    "sensor_phase = os.path.normpath('./output/A_load_and_combine_data/df_sensor_phase.pkl')\n",
    "\n",
    "# write intermediate tables to disk for debugging purposes\n",
    "write_temps = True\n",
    "df_sensor_data = None\n",
    "\n",
    "log('Done.')"
   ]
  },
  {
   "cell_type": "markdown",
   "metadata": {},
   "source": [
    "### 1.3 Import the data file"
   ]
  },
  {
   "cell_type": "code",
   "execution_count": 4,
   "metadata": {
    "collapsed": false
   },
   "outputs": [],
   "source": [
    "df_sensor_phase = pd.read_pickle(sensor_phase)"
   ]
  },
  {
   "cell_type": "markdown",
   "metadata": {},
   "source": [
    "### Create the aggregate temperature and humidity calculations"
   ]
  },
  {
   "cell_type": "markdown",
   "metadata": {},
   "source": [
    "Calculation: **Number of days per month with a temp >= 35C**"
   ]
  },
  {
   "cell_type": "code",
   "execution_count": 5,
   "metadata": {
    "collapsed": false
   },
   "outputs": [
    {
     "name": "stdout",
     "output_type": "stream",
     "text": [
      "Mon Apr 10 21:09:15 2017 -    1. Days per month >= 35C...\n",
      "Mon Apr 10 21:09:15 2017 -    1. Done\n"
     ]
    }
   ],
   "source": [
    "log('   1. Days per month >= 35C...')\n",
    "# get the records > 35\n",
    "# Convert the datetime to a month and day (in addition to the existing breeding_year)\n",
    "# Count the distinct dates per nest per year per month\n",
    "df_temp_above_35C = df_sensor_phase.loc[df_sensor_phase['temp_c'] >= 35].reset_index()\n",
    "gb_monthly_days_above_35C = df_temp_above_35C.groupby(['nest_id', 'breeding_year', 'month']).size()\n",
    "log('   1. Done')"
   ]
  },
  {
   "cell_type": "markdown",
   "metadata": {},
   "source": [
    "Calculation: **Number of days per season with a temp >= 35C**\n",
    "\n",
    "**Note**: Assumes that Summer 2013 is Jan-Feb13 and Dec13; i.e. all the summer months in the year 2013 rather than the Summer season that starts in 2013 (which would be Dec13-Feb14)."
   ]
  },
  {
   "cell_type": "code",
   "execution_count": 6,
   "metadata": {
    "collapsed": false
   },
   "outputs": [
    {
     "name": "stdout",
     "output_type": "stream",
     "text": [
      "Mon Apr 10 21:09:18 2017 -    2. Days per season >= 35C...\n",
      "Mon Apr 10 21:09:18 2017 -    2. Done\n"
     ]
    }
   ],
   "source": [
    "log('   2. Days per season >= 35C...')\n",
    "# use the >35C table from #1, sum for each season\n",
    "gb_seasonal_days_above_35C = df_temp_above_35C.groupby(['nest_id', 'season_year', 'season']).size().reset_index()\n",
    "log('   2. Done')"
   ]
  },
  {
   "cell_type": "markdown",
   "metadata": {},
   "source": [
    "Calculation: **Number of days per year with a temp >= 35C**"
   ]
  },
  {
   "cell_type": "code",
   "execution_count": 7,
   "metadata": {
    "collapsed": false
   },
   "outputs": [
    {
     "name": "stdout",
     "output_type": "stream",
     "text": [
      "Mon Apr 10 21:09:19 2017 -    3. Days per year >= 35C...\n",
      "Mon Apr 10 21:09:19 2017 -    3. Done\n"
     ]
    }
   ],
   "source": [
    "log('   3. Days per year >= 35C...')\n",
    "# use the >35C table from #1, sum for each year\n",
    "gb_annual_days_above_35C = df_temp_above_35C.groupby(['nest_id', 'breeding_year']).size()\n",
    "log('   3. Done')"
   ]
  },
  {
   "cell_type": "markdown",
   "metadata": {},
   "source": [
    "Calculation: **Number of days per month with a temp >= 40C**"
   ]
  },
  {
   "cell_type": "code",
   "execution_count": 8,
   "metadata": {
    "collapsed": false
   },
   "outputs": [
    {
     "name": "stdout",
     "output_type": "stream",
     "text": [
      "Mon Apr 10 21:09:31 2017 -    4. Days per month >= 40C...\n",
      "Mon Apr 10 21:09:31 2017 -    4. Done\n"
     ]
    }
   ],
   "source": [
    "log('   4. Days per month >= 40C...')\n",
    "# get the records > 40\n",
    "# Convert the datetime to a month and day (in addition to the existing breeding_year)\n",
    "# Count the distinct dates per nest per year per month\n",
    "df_temp_above_40C = df_sensor_phase.loc[df_sensor_phase['temp_c'] >= 40].reset_index()\n",
    "gb_monthly_days_above_40C = df_temp_above_40C.groupby(['nest_id', 'breeding_year', 'month']).size()\n",
    "log('   4. Done')"
   ]
  },
  {
   "cell_type": "markdown",
   "metadata": {},
   "source": [
    "Calculation: **Number of days per season with a temp >= 40C**"
   ]
  },
  {
   "cell_type": "code",
   "execution_count": 9,
   "metadata": {
    "collapsed": false
   },
   "outputs": [
    {
     "name": "stdout",
     "output_type": "stream",
     "text": [
      "Mon Apr 10 21:09:38 2017 -    5. Days per season >= 40C...\n",
      "Mon Apr 10 21:09:38 2017 -    5. Done\n"
     ]
    }
   ],
   "source": [
    "log('   5. Days per season >= 40C...')\n",
    "# use the >40C table from #4, sum for each season\n",
    "gb_seasonal_days_above_40C = df_temp_above_40C.groupby(['nest_id', 'season_year', 'season']).size()\n",
    "log('   5. Done')"
   ]
  },
  {
   "cell_type": "markdown",
   "metadata": {},
   "source": [
    "Calculation: **Number of days per year with a temp >= 40C**"
   ]
  },
  {
   "cell_type": "code",
   "execution_count": 10,
   "metadata": {
    "collapsed": false
   },
   "outputs": [
    {
     "name": "stdout",
     "output_type": "stream",
     "text": [
      "Mon Apr 10 21:09:39 2017 -    6. Days per year >= 40C...\n",
      "Mon Apr 10 21:09:39 2017 -    6. Done\n"
     ]
    }
   ],
   "source": [
    "log('   6. Days per year >= 40C...')\n",
    "# use the >35C table from #1, sum for each year\n",
    "gb_annual_days_above_40C = df_temp_above_40C.groupby(['nest_id', 'breeding_year']).size()\n",
    "log('   6. Done')"
   ]
  },
  {
   "cell_type": "markdown",
   "metadata": {},
   "source": [
    "Calculation: **Daily temperature and humidity stats**\n",
    "# How to get a temp/humd range in here?"
   ]
  },
  {
   "cell_type": "code",
   "execution_count": 11,
   "metadata": {
    "collapsed": false
   },
   "outputs": [
    {
     "name": "stdout",
     "output_type": "stream",
     "text": [
      "Mon Apr 10 21:09:40 2017 -    7. Daily temp and humidity stats...\n",
      "Mon Apr 10 21:09:41 2017 -    7. Done.\n"
     ]
    }
   ],
   "source": [
    "log('   7. Daily temp and humidity stats...')\n",
    "agg = {\n",
    "    'humidity': {\n",
    "        'max': 'max',\n",
    "        'min': 'min',\n",
    "        'mean': 'mean',\n",
    "        'median': 'median',\n",
    "        'stddev': 'std',\n",
    "    },\n",
    "    'temp_c': {\n",
    "        'max': 'max',\n",
    "        'min': 'min',\n",
    "        'mean': 'mean',\n",
    "        'median': 'median',\n",
    "        'stddev': 'std'\n",
    "    }\n",
    "}\n",
    "gb_daily_sensor_stats = df_sensor_phase.groupby(['nest_id', 'breeding_year', 'season_year', 'calendar_year', 'breeding_phase', 'season', 'month', 'day']).agg(agg).reset_index()\n",
    "gb_daily_sensor_stats.columns = [' '.join(col).strip() for col in gb_daily_sensor_stats.columns.values]\n",
    "log('   7. Done.')"
   ]
  },
  {
   "cell_type": "markdown",
   "metadata": {},
   "source": [
    "Calculation: **Monthly temperature and humidity stats**"
   ]
  },
  {
   "cell_type": "code",
   "execution_count": 12,
   "metadata": {
    "collapsed": false
   },
   "outputs": [
    {
     "name": "stdout",
     "output_type": "stream",
     "text": [
      "Mon Apr 10 21:09:44 2017 -    8. Monthly temp and humidity stats...\n",
      "Mon Apr 10 21:09:45 2017 -    8. Done.\n"
     ]
    }
   ],
   "source": [
    "log('   8. Monthly temp and humidity stats...')\n",
    "gb_monthly_sensor_stats = df_sensor_phase.groupby(['nest_id', 'breeding_year', 'season_year', 'calendar_year', 'breeding_phase', 'season', 'month']).agg(agg).reset_index()\n",
    "gb_monthly_sensor_stats.columns = [' '.join(col).strip() for col in gb_monthly_sensor_stats.columns.values]\n",
    "log('   8. Done.')"
   ]
  },
  {
   "cell_type": "markdown",
   "metadata": {},
   "source": [
    "Calculation: **Seasonal temperature and humidity stats**"
   ]
  },
  {
   "cell_type": "code",
   "execution_count": 13,
   "metadata": {
    "collapsed": false
   },
   "outputs": [
    {
     "name": "stdout",
     "output_type": "stream",
     "text": [
      "Mon Apr 10 21:09:47 2017 -    9. Seasonal temp and humidity stats...\n",
      "Mon Apr 10 21:09:48 2017 -    9. Done.\n"
     ]
    }
   ],
   "source": [
    "log('   9. Seasonal temp and humidity stats...')\n",
    "gb_seasonal_sensor_stats = df_sensor_phase.groupby(['nest_id', 'breeding_year', 'season_year', 'calendar_year', 'breeding_phase', 'season']).agg(agg).reset_index()\n",
    "gb_seasonal_sensor_stats.columns = [' '.join(col).strip() for col in gb_seasonal_sensor_stats.columns.values]\n",
    "log('   9. Done.')"
   ]
  },
  {
   "cell_type": "markdown",
   "metadata": {},
   "source": [
    "Calculation: **Annual temperature and humidity stats**"
   ]
  },
  {
   "cell_type": "code",
   "execution_count": 14,
   "metadata": {
    "collapsed": false
   },
   "outputs": [
    {
     "name": "stdout",
     "output_type": "stream",
     "text": [
      "Mon Apr 10 21:09:50 2017 -    10. Annual temp and humidity stats...\n",
      "Mon Apr 10 21:09:52 2017 -    10. Done.\n"
     ]
    }
   ],
   "source": [
    "log('   10. Annual temp and humidity stats...')\n",
    "gb_annual_sensor_stats = df_sensor_phase.groupby(['nest_id', 'breeding_year', 'season_year', 'calendar_year', 'breeding_phase', 'season', 'month', 'day']).agg(agg).reset_index()\n",
    "gb_annual_sensor_stats.columns = [' '.join(col).strip() for col in gb_annual_sensor_stats.columns.values]\n",
    "log('   10. Done.')"
   ]
  },
  {
   "cell_type": "markdown",
   "metadata": {},
   "source": [
    "Calculation: **Mean min temp and humidity by month, season, year, phase**"
   ]
  },
  {
   "cell_type": "code",
   "execution_count": null,
   "metadata": {
    "collapsed": false
   },
   "outputs": [],
   "source": [
    "log('   7. Mean min temp and humidity...')\n",
    "log('   7. Done.')"
   ]
  },
  {
   "cell_type": "markdown",
   "metadata": {},
   "source": [
    "Calculation: **Mean max temp and humidity by month, season, year, phase**"
   ]
  },
  {
   "cell_type": "code",
   "execution_count": null,
   "metadata": {
    "collapsed": false
   },
   "outputs": [],
   "source": [
    "log('   8. Mean max temp and humidity...')\n",
    "\n",
    "log('   8. Done.')"
   ]
  },
  {
   "cell_type": "markdown",
   "metadata": {},
   "source": [
    "Calculation: **Mean temp and humidity range by month, season, year, phase**"
   ]
  },
  {
   "cell_type": "code",
   "execution_count": null,
   "metadata": {
    "collapsed": false
   },
   "outputs": [],
   "source": [
    "log('   9. Mean temp and humidity range...')\n",
    "\n",
    "log('   9. Done.')"
   ]
  },
  {
   "cell_type": "markdown",
   "metadata": {},
   "source": [
    "Calculation: **Hours exceeding 35C by year, season, month and phase**"
   ]
  },
  {
   "cell_type": "code",
   "execution_count": null,
   "metadata": {
    "collapsed": false
   },
   "outputs": [],
   "source": [
    "log('   11. Hours exceeding 35C...')\n",
    "\n",
    "log('   11. Done.')"
   ]
  },
  {
   "cell_type": "markdown",
   "metadata": {},
   "source": [
    "Calculation: **Hours exceeding 40C by year, season, month and phase**"
   ]
  },
  {
   "cell_type": "code",
   "execution_count": null,
   "metadata": {
    "collapsed": false
   },
   "outputs": [],
   "source": [
    "log('   12. Hours exceeding 40C...')\n",
    "\n",
    "log('   12. Done.')"
   ]
  },
  {
   "cell_type": "markdown",
   "metadata": {},
   "source": [
    "# Placeholder - need BOM data\n",
    "Calculation: **Mean variance from ambient max temperature by year, season, month, phase**"
   ]
  },
  {
   "cell_type": "code",
   "execution_count": null,
   "metadata": {
    "collapsed": false
   },
   "outputs": [],
   "source": [
    "log('   13. Mean monthly humidity...')\n",
    "\n",
    "log('   13. Done.')"
   ]
  },
  {
   "cell_type": "markdown",
   "metadata": {},
   "source": [
    "# Placeholder - need BOM data\n",
    "Calculation: **Mean variance from ambient min temperature by year, season, month, phase**"
   ]
  },
  {
   "cell_type": "code",
   "execution_count": null,
   "metadata": {
    "collapsed": false
   },
   "outputs": [],
   "source": [
    "log('   14. Mean monthly humidity...')\n",
    "\n",
    "log('   14. Done.')"
   ]
  },
  {
   "cell_type": "code",
   "execution_count": null,
   "metadata": {
    "collapsed": true
   },
   "outputs": [],
   "source": [
    "log('Calculating the sensor stats: Done.')"
   ]
  },
  {
   "cell_type": "markdown",
   "metadata": {},
   "source": [
    "## Join the aggregates by their time period (all annual etc)"
   ]
  },
  {
   "cell_type": "markdown",
   "metadata": {},
   "source": [
    "# Join the breeding success data to the aggregates"
   ]
  },
  {
   "cell_type": "code",
   "execution_count": null,
   "metadata": {
    "collapsed": false
   },
   "outputs": [],
   "source": [
    "log('Cleaning up intermediate data tables...')\n",
    "\n",
    "log('Done.')"
   ]
  },
  {
   "cell_type": "markdown",
   "metadata": {},
   "source": [
    "**Pickle the two key data files for use in later scripts**"
   ]
  },
  {
   "cell_type": "code",
   "execution_count": null,
   "metadata": {
    "collapsed": false
   },
   "outputs": [],
   "source": [
    "log('Writing the final tables to pickle for future use...')\n",
    "\n",
    "log('Done.')"
   ]
  }
 ],
 "metadata": {
  "anaconda-cloud": {},
  "kernelspec": {
   "display_name": "Python 3",
   "language": "python",
   "name": "python3"
  },
  "language_info": {
   "codemirror_mode": {
    "name": "ipython",
    "version": 3
   },
   "file_extension": ".py",
   "mimetype": "text/x-python",
   "name": "python",
   "nbconvert_exporter": "python",
   "pygments_lexer": "ipython3",
   "version": "3.6.0"
  }
 },
 "nbformat": 4,
 "nbformat_minor": 0
}
